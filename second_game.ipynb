{
 "cells": [
  {
   "cell_type": "code",
   "execution_count": 2,
   "metadata": {
    "collapsed": false
   },
   "outputs": [],
   "source": [
    "import turtle\n",
    "t = turtle.Pen()\n",
    "t.pencolor('black')\n",
    "\n",
    "\n",
    "number_of_circles = int(turtle.numinput(\"number of circles,\"\n",
    "                                        \"how many circles in your rosette?\", 6))\n",
    "for x in range(number_of_circles):\n",
    "    t.circle(100)\n",
    "    t.left(360/number_of_circles)\n",
    "\n",
    "\n"
   ]
  },
  {
   "cell_type": "code",
   "execution_count": null,
   "metadata": {
    "collapsed": false
   },
   "outputs": [
    {
     "name": "stdout",
     "output_type": "stream",
     "text": [
      "rock crushes scissors. scissors cut paper. paper covers rock.\n",
      "do you want to be rock, paper, or scissors (or quit)? paper\n",
      "you chose paper, and the computer chose paper.\n",
      "its a tie!\n",
      "\n",
      "do you want to be rock, paper, or scissors (or quit)? scissors\n",
      "you chose scissors, and the computer chose rock.\n",
      "computer wins!\n",
      "\n",
      "do you want to be rock, paper, or scissors (or quit)? paper\n",
      "you chose paper, and the computer chose paper.\n",
      "its a tie!\n",
      "\n"
     ]
    }
   ],
   "source": [
    "import random\n",
    "choices = [\"rock\", \"paper\", \"scissors\"]\n",
    "print(\"rock crushes scissors. scissors cut paper. paper covers rock.\")\n",
    "player = input(\"do you want to be rock, paper, or scissors (or quit)? \")\n",
    "while player != \"quit\":\n",
    "    player = player.lower()\n",
    "    computer = random.choice(choices)\n",
    "    print(\"you chose \" +player+ \", and the computer chose \" +computer+ \".\")\n",
    "    if player == computer:\n",
    "        print(\"its a tie!\")\n",
    "    elif player == \"rock\":\n",
    "        if computer == \"scissors\":\n",
    "            print(\"you win!\")\n",
    "        else:\n",
    "            print(\"computer wins!\")\n",
    "    elif player == \"paper\":\n",
    "        if computer == \"rock\":\n",
    "            print(\"you win!\")\n",
    "        else:\n",
    "            print(\"computer wins!\")\n",
    "    elif player == \"scissors\":\n",
    "        if computer == \"paper\":\n",
    "            print(\"you win!\")\n",
    "        else:\n",
    "            print(\"computer wins!\")\n",
    "    else:\n",
    "        print(\"I think there was some sort of error...\")\n",
    "    print()\n",
    "    player = input(\"do you want to be rock, paper, or scissors (or quit)? \")\n",
    "    \n",
    "        \n",
    "            \n",
    "    "
   ]
  }
 ],
 "metadata": {
  "kernelspec": {
   "display_name": "Python 3",
   "language": "python",
   "name": "python3"
  },
  "language_info": {
   "codemirror_mode": {
    "name": "ipython",
    "version": 3
   },
   "file_extension": ".py",
   "mimetype": "text/x-python",
   "name": "python",
   "nbconvert_exporter": "python",
   "pygments_lexer": "ipython3",
   "version": "3.5.2"
  }
 },
 "nbformat": 4,
 "nbformat_minor": 2
}
