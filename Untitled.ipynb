{
 "cells": [
  {
   "cell_type": "code",
   "execution_count": 1,
   "metadata": {
    "collapsed": false
   },
   "outputs": [],
   "source": [
    "import turtle\n",
    "t = turtle.Pen()\n",
    "\n",
    "t.circle(100)\n",
    "t.left(90)\n",
    "\n",
    "t.circle(100)\n",
    "t.left(90)\n",
    "\n",
    "t.circle(100)\n",
    "t.left(90)\n",
    "\n",
    "t.circle(100)\n",
    "t.left(90)"
   ]
  },
  {
   "cell_type": "markdown",
   "metadata": {},
   "source": [
    "![img](https://img.itch.zone/aW1hZ2UyL2phbS8yMjI2LzIxMjY1Mi5wbmc=/original/BUE%2Be2.png)"
   ]
  },
  {
   "cell_type": "code",
   "execution_count": 8,
   "metadata": {
    "collapsed": false
   },
   "outputs": [
    {
     "name": "stdout",
     "output_type": "stream",
     "text": [
      "guess a number between 1 and 100:50\n",
      "(50, 'was too high. try again.')\n",
      "guess again:25\n",
      "(25, 'was too low. try again.')\n",
      "guess again:45\n",
      "(45, 'was too low. try again.')\n",
      "guess again:55\n",
      "(55, 'was too high. try again.')\n",
      "guess again:42\n",
      "(42, 'was too low. try again.')\n",
      "guess again:47\n",
      "(47, 'was the number! you win!')\n"
     ]
    }
   ],
   "source": [
    "import random\n",
    "the_number = random.randint(1, 100)\n",
    "guess = int(input(\"guess a number between 1 and 100:\"))\n",
    "while guess != the_number:\n",
    "    if guess > the_number:\n",
    "        print(guess, \"was too high. try again.\")\n",
    "    if guess < the_number:\n",
    "        print(guess, \"was too low. try again.\")\n",
    "    guess = int(input('guess again:'))\n",
    "print(guess, \"was the number! you win!\")\n"
   ]
  }
 ],
 "metadata": {
  "kernelspec": {
   "display_name": "Python 2",
   "language": "python",
   "name": "python2"
  },
  "language_info": {
   "codemirror_mode": {
    "name": "ipython",
    "version": 2
   },
   "file_extension": ".py",
   "mimetype": "text/x-python",
   "name": "python",
   "nbconvert_exporter": "python",
   "pygments_lexer": "ipython2",
   "version": "2.7.10"
  }
 },
 "nbformat": 4,
 "nbformat_minor": 0
}
